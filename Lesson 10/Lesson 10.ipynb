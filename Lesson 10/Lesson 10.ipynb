{
 "cells": [
  {
   "cell_type": "markdown",
   "metadata": {},
   "source": [
    "### 1. Програма для отримання радомної анкети"
   ]
  },
  {
   "cell_type": "code",
   "execution_count": 2,
   "metadata": {},
   "outputs": [
    {
     "data": {
      "text/plain": [
       "200"
      ]
     },
     "execution_count": 2,
     "metadata": {},
     "output_type": "execute_result"
    }
   ],
   "source": [
    "import requests\n",
    "from bs4 import BeautifulSoup\n",
    "\n",
    "\n",
    "\n",
    "site = 'https://www.i.ua/'\n",
    "\n",
    "r = requests.get(site)\n",
    "r.status_code"
   ]
  },
  {
   "cell_type": "code",
   "execution_count": 4,
   "metadata": {},
   "outputs": [
    {
     "data": {
      "text/plain": [
       "bs4.BeautifulSoup"
      ]
     },
     "execution_count": 4,
     "metadata": {},
     "output_type": "execute_result"
    }
   ],
   "source": [
    "soup = BeautifulSoup(r.text, 'lxml')\n",
    "type(soup)"
   ]
  },
  {
   "cell_type": "code",
   "execution_count": 8,
   "metadata": {},
   "outputs": [],
   "source": [
    "quest = soup.find('div', class_=\"block_gamma_gradient photo\")"
   ]
  },
  {
   "cell_type": "markdown",
   "metadata": {},
   "source": [
    "Отримаємо імя, вік, фото, посилання на профіль"
   ]
  },
  {
   "cell_type": "code",
   "execution_count": 12,
   "metadata": {},
   "outputs": [],
   "source": [
    "name = quest.p.text"
   ]
  },
  {
   "cell_type": "code",
   "execution_count": 25,
   "metadata": {},
   "outputs": [],
   "source": [
    "age = int(quest.dd.text.split('\\n')[2].split(',')[0].split()[0])"
   ]
  },
  {
   "cell_type": "code",
   "execution_count": 33,
   "metadata": {},
   "outputs": [],
   "source": [
    "link = quest.dt.a.get('href')"
   ]
  },
  {
   "cell_type": "code",
   "execution_count": 41,
   "metadata": {},
   "outputs": [],
   "source": [
    "photo = quest.dt.a.img.get('src')"
   ]
  },
  {
   "cell_type": "code",
   "execution_count": 50,
   "metadata": {},
   "outputs": [],
   "source": [
    "r = requests.get('http:'+photo)\n",
    "with open(name+'.jpeg', 'wb') as f:\n",
    "    f.write(r.content)"
   ]
  },
  {
   "cell_type": "markdown",
   "metadata": {},
   "source": [
    "### 2. Випадкові анкети із сайту з детальним описом"
   ]
  },
  {
   "cell_type": "code",
   "execution_count": 95,
   "metadata": {},
   "outputs": [],
   "source": [
    "import requests\n",
    "from bs4 import BeautifulSoup\n",
    "\n",
    "# HEADERS = {\n",
    "#             'User-Agent': 'Mozilla/5.0 (Windows NT 6.1; WOW64; rv:49.0) Gecko/20100101 Firefox/49.0',\n",
    "#             'Accept': 'text/html,application/xhtml+xml,application/xml;q=0.9,*/*;q=0.8',\n",
    "#             'Accept-Language': 'ua-UA,en;q=0.5',\n",
    "#             'Accept-Encoding': 'gzip, deflate',\n",
    "#             'DNT': '1',\n",
    "#             'Connection': 'keep-alive',\n",
    "#             'Upgrade-Insecure-Requests': '1'\n",
    "#         }\n",
    "\n",
    "site = 'https://love.i.ua/'\n",
    "\n",
    "r = requests.get(site, headers=HEADERS)\n",
    "soup = BeautifulSoup(r.text, 'lxml')"
   ]
  },
  {
   "cell_type": "code",
   "execution_count": 97,
   "metadata": {},
   "outputs": [
    {
     "data": {
      "text/plain": [
       "<h2 class=\"underlined\">Случайные анкеты</h2>"
      ]
     },
     "execution_count": 97,
     "metadata": {},
     "output_type": "execute_result"
    }
   ],
   "source": [
    "for teg in soup.find_all('h2', class_=\"underlined\"):\n",
    "    if teg.text == 'Случайные анкеты':\n",
    "        break\n",
    "teg"
   ]
  },
  {
   "cell_type": "code",
   "execution_count": 98,
   "metadata": {},
   "outputs": [
    {
     "name": "stdout",
     "output_type": "stream",
     "text": [
      "https://love.i.ua/user/1052269\n",
      "https://love.i.ua/user/889771\n",
      "https://love.i.ua/user/8476050\n",
      "https://love.i.ua/user/1086337\n",
      "https://love.i.ua/user/4468387\n"
     ]
    }
   ],
   "source": [
    "DB = {}\n",
    "for q in teg.parent.find_all('ul', class_=\"list_cols_5 clear\")[1].find_all('li'):\n",
    "    name = q.p.text\n",
    "    link = q.a.get('href').strip('/')\n",
    "    print(site+link)\n",
    "    describe = get_describe(site+link)\n",
    "    DB[link] = {'name':name, 'describe':describe}"
   ]
  },
  {
   "cell_type": "code",
   "execution_count": 99,
   "metadata": {},
   "outputs": [],
   "source": [
    "def get_describe(link):\n",
    "    '''Отримуємо опис анкети користувача'''\n",
    "    \n",
    "    r = requests.get(link)\n",
    "    soup = BeautifulSoup(r.text, 'lxml')\n",
    "    try:\n",
    "        result = soup.find('div', id=\"name_block\").text\n",
    "    except AttributeError:\n",
    "        result = 'Відсутній опис'\n",
    "    \n",
    "    return result"
   ]
  },
  {
   "cell_type": "code",
   "execution_count": 100,
   "metadata": {},
   "outputs": [
    {
     "data": {
      "text/plain": [
       "{'user/1052269': {'name': 'Віталій',\n",
       "  'describe': 'Постійно в роботі, шукаю другу полинку.'},\n",
       " 'user/889771': {'name': 'S_T_E',\n",
       "  'describe': 'Увлечения - чтение, танцы, музыка'},\n",
       " 'user/8476050': {'name': 'Алексей',\n",
       "  'describe': 'Полтавчанин,44х185х80,раз ведён.Живу один, без проблем,авто,бизнес,добры й оптимист,с чувством юмора,не курю могу выпить на празднике'},\n",
       " 'user/1086337': {'name': 'Елена',\n",
       "  'describe': 'Я просто человек со сложным характером. Я не грубиянка, но могу сказать лишнего… Я не верю в чудеса,но жду их..каждый день и каждую минуту..\\r\\n Мне пофиг, что вы про меня думаете — моя бабушка говорит, что я СОЛНЫШКО! :)\\n\\r\\nЖенщины созданы для того, чтобы их любили, а не для того, чтобы их понимали (Оскар Уайльд)\\n\\r\\nТы когда-нибудь чувствовал, что тебе не хватает того, кого ты никогда не встречал?'},\n",
       " 'user/4468387': {'name': 'ПАВЛИНА', 'describe': 'Живу! Учусь! Работаю!'}}"
      ]
     },
     "execution_count": 100,
     "metadata": {},
     "output_type": "execute_result"
    }
   ],
   "source": [
    "DB"
   ]
  },
  {
   "cell_type": "code",
   "execution_count": 101,
   "metadata": {},
   "outputs": [
    {
     "data": {
      "text/plain": [
       "2823551282616"
      ]
     },
     "execution_count": 101,
     "metadata": {},
     "output_type": "execute_result"
    }
   ],
   "source": [
    "id(DB)"
   ]
  },
  {
   "cell_type": "markdown",
   "metadata": {},
   "source": [
    "### 3.  Парсинг сайту з фільмами"
   ]
  },
  {
   "cell_type": "code",
   "execution_count": 131,
   "metadata": {},
   "outputs": [
    {
     "name": "stdout",
     "output_type": "stream",
     "text": [
      "['Артхаус', 'Боевики', 'Военные', 'Детективы', 'Для всей семьи', 'Для детей', 'Документальные', 'Драмы', 'Исторические', 'Комедии', 'Криминал', 'Мелодрамы', 'Приключения', 'Триллеры', 'Ужасы', 'Фантастика', 'Фэнтези', '\\n                        Новинки подписки\\n                    ', 'Комедийные', 'Медицинские', 'Романтические', '\\n                        Передачи National Geographic\\n                    ', '\\n                        Сериалы, телешоу и фильмы Первого канала\\n                    ', 'Для взрослых', 'Полнометражные', 'Развивающие', 'Сериалы']\n",
      "Введіть назву жанруПриключения\n",
      "['Фиксики: Большой секрет', 'Три богатыря и Наследница престола', 'Оранжевая корова', 'Три богатыря на дальних берегах', 'Три богатыря и Шамаханская царица']\n",
      "Введіть назву фільму: Фиксики: Большой секрет\n",
      "Фиксики, маленькие герои одноименного мультсериала, наконец-то появились и на большом экране: о них сняли полнометражный мультфильм. \n",
      "\n",
      "Крохотные волшебные существа живут в обычных человеческих домах и чинят сломанные электроприборы. Заботиться о технике – их призвание. Но как только какой-нибудь человек увидит фиксика, малыш сразу превратится в простой винтик. Поэтому жизнь маленьких санитаров техники – это большой-большой секрет.\n",
      "\n",
      "Профессор Чудаков – один из тех, кто в этот секрет посвящен. С фиксиками он водит дружбу и ставит эксперименты, которые помогают ему в научной работе. Однажды профессор и Дедус, один из самых сообразительных фиксиков, изобрели специальные браслеты, которые дали народцу возможность путешествовать по проводам. Но Файер, фиксик-недотепа, надел браслет без спроса, и полет по проводке превратил его в злобное создание, которое портит все, к чему прикасается…\n",
      "\n",
      "Как Чудаков и фиксики будут спасать своего друга и смогут ли они предотвратить катастрофу, вы узнаете, если решите смотреть онлайн мультфильм «Фиксики. Большой секрет» на нашем сайте.\n"
     ]
    }
   ],
   "source": [
    "import requests\n",
    "from bs4 import BeautifulSoup\n",
    "\n",
    "# HEADERS = {\n",
    "#             'User-Agent': 'Mozilla/5.0 (Windows NT 6.1; WOW64; rv:49.0) Gecko/20100101 Firefox/49.0',\n",
    "#             'Accept': 'text/html,application/xhtml+xml,application/xml;q=0.9,*/*;q=0.8',\n",
    "#             'Accept-Language': 'ua-UA,en;q=0.5',\n",
    "#             'Accept-Encoding': 'gzip, deflate',\n",
    "#             'DNT': '1',\n",
    "#             'Connection': 'keep-alive',\n",
    "#             'Upgrade-Insecure-Requests': '1'\n",
    "#         }\n",
    "\n",
    "site = 'https://www.ivi.tv/'\n",
    "\n",
    "def get_genre(site):\n",
    "    r = requests.get(site, headers=HEADERS)\n",
    "    soup = BeautifulSoup(r.text, 'lxml')\n",
    "\n",
    "    dict_with_genre = {}\n",
    "    for el in soup.find_all('li', class_=\"top-menu__sublist-item\"):\n",
    "        dict_with_genre[el.a.text] = el.a.get('href')\n",
    "    \n",
    "    print(list(dict_with_genre))\n",
    "    \n",
    "    return dict_with_genre\n",
    "\n",
    "def get_film(site, genre):\n",
    "    r = requests.get(site+genre.strip('/'), headers=HEADERS)\n",
    "    soup = BeautifulSoup(r.text, 'lxml')\n",
    "\n",
    "    dict_with_film = {}\n",
    "    for film in soup.find_all('li', class_=\"gallery__item gallery__item_virtual\")[0:5]:\n",
    "        name = film.find('div', class_=\"nbl-slimPosterBlock__title\").text\n",
    "        link = film.a.get('href')\n",
    "        dict_with_film[name] = link\n",
    "\n",
    "    return dict_with_film\n",
    "\n",
    "def detail_info(site, film):\n",
    "    r = requests.get(site+film.strip('/'), headers=HEADERS)\n",
    "    soup = BeautifulSoup(r.text, 'lxml')\n",
    "    \n",
    "    info = soup.find('div', class_=\"clause__text-inner\").p.text\n",
    "    \n",
    "    print(info)\n",
    "\n",
    "if __name__ == '__main__':\n",
    "    \n",
    "    all_genre = get_genre(site)\n",
    "    g = input('Введіть назву жанру')\n",
    "    \n",
    "    dict_with_film = get_film(site, all_genre[g])\n",
    "    \n",
    "    print(list(dict_with_film))\n",
    "    \n",
    "    film = input('Введіть назву фільму: ')\n",
    "    \n",
    "    detail_info(site, dict_with_film[film])\n",
    "    \n",
    "    \n",
    "    "
   ]
  },
  {
   "cell_type": "code",
   "execution_count": null,
   "metadata": {},
   "outputs": [],
   "source": []
  }
 ],
 "metadata": {
  "kernelspec": {
   "display_name": "Python 3",
   "language": "python",
   "name": "python3"
  },
  "language_info": {
   "codemirror_mode": {
    "name": "ipython",
    "version": 3
   },
   "file_extension": ".py",
   "mimetype": "text/x-python",
   "name": "python",
   "nbconvert_exporter": "python",
   "pygments_lexer": "ipython3",
   "version": "3.7.6"
  }
 },
 "nbformat": 4,
 "nbformat_minor": 4
}
