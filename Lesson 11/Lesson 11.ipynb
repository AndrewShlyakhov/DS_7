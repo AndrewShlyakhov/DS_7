{
 "cells": [
  {
   "cell_type": "markdown",
   "metadata": {},
   "source": [
    "### Проектуємо базу даних"
   ]
  },
  {
   "cell_type": "code",
   "execution_count": 1,
   "metadata": {},
   "outputs": [],
   "source": [
    "import sqlite3"
   ]
  },
  {
   "cell_type": "code",
   "execution_count": 2,
   "metadata": {},
   "outputs": [],
   "source": [
    "conn = sqlite3.connect('shop.db')\n",
    "\n",
    "conn.close()"
   ]
  },
  {
   "cell_type": "code",
   "execution_count": 17,
   "metadata": {},
   "outputs": [],
   "source": [
    "sql_text = \"\"\"\n",
    "            CREATE TABLE Unit (\n",
    "                name TEXT)\n",
    "            \n",
    "            ;\n",
    "            \n",
    "            CREATE TABLE Product (\n",
    "                sku TEXT, \n",
    "                name TEXT,\n",
    "                description TEXT,\n",
    "                unit INTEGER,\n",
    "                koef REAL,\n",
    "\n",
    "                FOREIGN KEY (unit)\n",
    "                   REFERENCES Unit (id)\n",
    "            )\n",
    "            ;\n",
    "            \n",
    "            CREATE TABLE Stock (\n",
    "                period DATETIME,\n",
    "                product INTEGER, \n",
    "                type_operation TEXT,\n",
    "                qty REAL, \n",
    "                amount REAL,\n",
    "\n",
    "                FOREIGN KEY (product)\n",
    "                   REFERENCES Product (id)\n",
    "            \n",
    "            )\n",
    "            \n",
    "            ;\n",
    "            \n",
    "            CREATE TABLE Price (\n",
    "                product INTEGER,\n",
    "                price REAL,\n",
    "                period_start DATETIME,\n",
    "\n",
    "                FOREIGN KEY (product)\n",
    "                   REFERENCES Product (id)\n",
    "            )\n",
    "            ;\n",
    "\"\"\""
   ]
  },
  {
   "cell_type": "code",
   "execution_count": 18,
   "metadata": {},
   "outputs": [],
   "source": [
    "conn = sqlite3.connect('shop.db')\n",
    "\n",
    "curs = conn.cursor()\n",
    "\n",
    "curs.executescript(sql_text)\n",
    "\n",
    "conn.close()"
   ]
  },
  {
   "cell_type": "code",
   "execution_count": 20,
   "metadata": {},
   "outputs": [],
   "source": [
    "# записуємо інформацію\n",
    "\n",
    "sql_text = \"\"\"INSERT INTO Unit VALUES ('пляшка')\"\"\"\n",
    "\n",
    "conn = sqlite3.connect('shop.db')\n",
    "\n",
    "curs = conn.cursor()\n",
    "\n",
    "curs.execute(sql_text)\n",
    "\n",
    "conn.commit()\n",
    "\n",
    "conn.close()"
   ]
  },
  {
   "cell_type": "code",
   "execution_count": 21,
   "metadata": {},
   "outputs": [],
   "source": [
    "# записуємо інформацію\n",
    "\n",
    "sql_text = \"\"\"INSERT INTO Product VALUES ('re509672', 'Вино Савінйон Блан', 'Вино біле сухе 13%', 1, 0.75)\"\"\"\n",
    "\n",
    "conn = sqlite3.connect('shop.db')\n",
    "\n",
    "curs = conn.cursor()\n",
    "\n",
    "curs.execute(sql_text)\n",
    "\n",
    "conn.commit()\n",
    "\n",
    "conn.close()"
   ]
  },
  {
   "cell_type": "code",
   "execution_count": 23,
   "metadata": {},
   "outputs": [],
   "source": [
    "# записуємо інформацію\n",
    "from datetime import datetime\n",
    "sql_text = \"\"\"INSERT INTO Stock VALUES (?, ?, ?, ?, ?)\"\"\"\n",
    "\n",
    "conn = sqlite3.connect('shop.db')\n",
    "\n",
    "curs = conn.cursor()\n",
    "\n",
    "curs.execute(sql_text, (datetime.now(), 1, 'прихід', 10, 3500) )\n",
    "\n",
    "conn.commit()\n",
    "\n",
    "conn.close()"
   ]
  },
  {
   "cell_type": "code",
   "execution_count": null,
   "metadata": {},
   "outputs": [],
   "source": []
  }
 ],
 "metadata": {
  "kernelspec": {
   "display_name": "Python 3",
   "language": "python",
   "name": "python3"
  },
  "language_info": {
   "codemirror_mode": {
    "name": "ipython",
    "version": 3
   },
   "file_extension": ".py",
   "mimetype": "text/x-python",
   "name": "python",
   "nbconvert_exporter": "python",
   "pygments_lexer": "ipython3",
   "version": "3.7.6"
  }
 },
 "nbformat": 4,
 "nbformat_minor": 4
}
