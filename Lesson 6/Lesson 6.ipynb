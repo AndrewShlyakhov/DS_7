{
 "cells": [
  {
   "cell_type": "code",
   "execution_count": 1,
   "metadata": {},
   "outputs": [
    {
     "name": "stdout",
     "output_type": "stream",
     "text": [
      "Ihor\n",
      "Євген\n",
      "Анна\n",
      "Дмитро\n",
      "Катерина\n",
      "Лідія\n"
     ]
    }
   ],
   "source": [
    "list_with_students = ['Ihor', 'Євген', 'Анна', 'Дмитро', 'Катерина', 'Лідія']\n",
    "\n",
    "for student in list_with_students:\n",
    "    print(student)"
   ]
  },
  {
   "cell_type": "code",
   "execution_count": 4,
   "metadata": {},
   "outputs": [
    {
     "name": "stdout",
     "output_type": "stream",
     "text": [
      "0 Ihor\n",
      "1 Євген\n",
      "2 Анна\n",
      "3 Дмитро\n",
      "4 Катерина\n",
      "5 Лідія\n"
     ]
    }
   ],
   "source": [
    "for i in range(len(list_with_students)):\n",
    "    print(i, list_with_students[i])"
   ]
  },
  {
   "cell_type": "code",
   "execution_count": 5,
   "metadata": {},
   "outputs": [
    {
     "name": "stdout",
     "output_type": "stream",
     "text": [
      "Дмитро\n",
      "Євген\n",
      "Лідія\n",
      "Ihor\n",
      "Анна\n",
      "Катерина\n"
     ]
    }
   ],
   "source": [
    "set_with_students = {'Ihor', 'Євген', 'Анна', 'Дмитро', 'Катерина', 'Лідія'}\n",
    "\n",
    "for name in set_with_students:\n",
    "    print(name)"
   ]
  },
  {
   "cell_type": "code",
   "execution_count": 6,
   "metadata": {},
   "outputs": [
    {
     "ename": "TypeError",
     "evalue": "'set' object is not subscriptable",
     "output_type": "error",
     "traceback": [
      "\u001b[1;31m---------------------------------------------------------------------------\u001b[0m",
      "\u001b[1;31mTypeError\u001b[0m                                 Traceback (most recent call last)",
      "\u001b[1;32m<ipython-input-6-645749fcab8b>\u001b[0m in \u001b[0;36m<module>\u001b[1;34m\u001b[0m\n\u001b[1;32m----> 1\u001b[1;33m \u001b[0mset_with_students\u001b[0m\u001b[1;33m[\u001b[0m\u001b[1;36m0\u001b[0m\u001b[1;33m]\u001b[0m\u001b[1;33m\u001b[0m\u001b[1;33m\u001b[0m\u001b[0m\n\u001b[0m",
      "\u001b[1;31mTypeError\u001b[0m: 'set' object is not subscriptable"
     ]
    }
   ],
   "source": [
    "set_with_students[0]"
   ]
  },
  {
   "cell_type": "code",
   "execution_count": 9,
   "metadata": {},
   "outputs": [
    {
     "name": "stdout",
     "output_type": "stream",
     "text": [
      "Place 1 Car 1 #4850\n",
      "Place 2 Car 10 #1234\n",
      "Place 3 Car 20 #6789\n",
      "Place 4 Car 56 #3187\n"
     ]
    }
   ],
   "source": [
    "parking = {'Place 1': 'Car 1 #4850',\n",
    "            'Place 2': 'Car 10 #1234',\n",
    "            'Place 3': 'Car 20 #6789',\n",
    "            'Place 4': 'Car 56 #3187'\n",
    "          }\n",
    "\n",
    "for obj in parking:\n",
    "    print(obj, parking[obj])"
   ]
  },
  {
   "cell_type": "code",
   "execution_count": 11,
   "metadata": {},
   "outputs": [
    {
     "name": "stdout",
     "output_type": "stream",
     "text": [
      "Place 1 Car 1 #4850\n",
      "Place 2 Car 10 #1234\n",
      "Place 3 Car 20 #6789\n",
      "Place 4 Car 56 #3187\n"
     ]
    }
   ],
   "source": [
    "for k,v in parking.items():\n",
    "    print(k, v)"
   ]
  },
  {
   "cell_type": "code",
   "execution_count": 12,
   "metadata": {},
   "outputs": [],
   "source": [
    "import random"
   ]
  },
  {
   "cell_type": "code",
   "execution_count": 26,
   "metadata": {},
   "outputs": [
    {
     "data": {
      "text/plain": [
       "1"
      ]
     },
     "execution_count": 26,
     "metadata": {},
     "output_type": "execute_result"
    }
   ],
   "source": [
    "random.choice([1, 2, 3])"
   ]
  },
  {
   "cell_type": "code",
   "execution_count": 28,
   "metadata": {},
   "outputs": [
    {
     "name": "stdout",
     "output_type": "stream",
     "text": [
      "1\n",
      "5\n",
      "1\n",
      "2\n",
      "3\n",
      "4\n",
      "5\n"
     ]
    }
   ],
   "source": [
    "# Користувач вводить два цілих числа A і B (при цьому A ≤ B). Виведіть всі\n",
    "# числа від A до B включно\n",
    "\n",
    "A = int(input())\n",
    "B = int(input())\n",
    "\n",
    "while A <= B:\n",
    "    print(A)\n",
    "    A += 1"
   ]
  },
  {
   "cell_type": "code",
   "execution_count": 29,
   "metadata": {},
   "outputs": [
    {
     "name": "stdout",
     "output_type": "stream",
     "text": [
      "1\n",
      "5\n",
      "1\n",
      "2\n",
      "3\n",
      "4\n",
      "5\n"
     ]
    }
   ],
   "source": [
    "A = int(input())\n",
    "B = int(input())\n",
    "\n",
    "#range(START, STOP, STEP)\n",
    "\n",
    "for i in range(A, B+1):\n",
    "    print(i)"
   ]
  },
  {
   "cell_type": "code",
   "execution_count": 30,
   "metadata": {},
   "outputs": [
    {
     "name": "stdout",
     "output_type": "stream",
     "text": [
      "1\n",
      "2\n",
      "3\n",
      "4\n",
      "5\n",
      "15\n"
     ]
    }
   ],
   "source": [
    "# Користувач вводить 10 цілих чисел. Виведіть суму цих чисел\n",
    "data = []\n",
    "\n",
    "for _ in range(5):\n",
    "    number = int(input())\n",
    "    data.append(number)\n",
    "    \n",
    "print(sum(data))"
   ]
  },
  {
   "cell_type": "code",
   "execution_count": 36,
   "metadata": {},
   "outputs": [],
   "source": [
    "# Заповніть список випадковими цілими числами (к-сть довільна). Виведіть\n",
    "# лише парні числа; виведіть індекси непарних чисел\n",
    "\n",
    "import random\n",
    "\n",
    "data = []\n",
    "\n",
    "for _ in range(10):\n",
    "    random_number = random.randrange(1000)\n",
    "    data.append(random_number)"
   ]
  },
  {
   "cell_type": "code",
   "execution_count": 38,
   "metadata": {},
   "outputs": [
    {
     "data": {
      "text/plain": [
       "[681, 928, 893, 353, 956, 175, 501, 278, 472, 356]"
      ]
     },
     "execution_count": 38,
     "metadata": {},
     "output_type": "execute_result"
    }
   ],
   "source": [
    "data"
   ]
  },
  {
   "cell_type": "code",
   "execution_count": 39,
   "metadata": {},
   "outputs": [
    {
     "name": "stdout",
     "output_type": "stream",
     "text": [
      "928\n",
      "956\n",
      "278\n",
      "472\n",
      "356\n"
     ]
    }
   ],
   "source": [
    "for i in data:\n",
    "    if i % 2 == 0:\n",
    "        print(i)"
   ]
  },
  {
   "cell_type": "code",
   "execution_count": 40,
   "metadata": {},
   "outputs": [
    {
     "name": "stdout",
     "output_type": "stream",
     "text": [
      "0 681\n",
      "2 893\n",
      "3 353\n",
      "5 175\n",
      "6 501\n"
     ]
    }
   ],
   "source": [
    "for i in range(len(data)):\n",
    "    if data[i] % 2 != 0:\n",
    "        print(i, data[i])"
   ]
  },
  {
   "cell_type": "code",
   "execution_count": 41,
   "metadata": {},
   "outputs": [
    {
     "name": "stdout",
     "output_type": "stream",
     "text": [
      "1\n",
      "1\n",
      "2\n",
      "3\n",
      "5\n",
      "8\n",
      "13\n",
      "21\n",
      "34\n",
      "55\n"
     ]
    }
   ],
   "source": [
    "# 1, 1, 2, 3, 5, 8, 13, 21 ...\n",
    "\n",
    "N = 10\n",
    "\n",
    "a, b = 1, 1\n",
    "\n",
    "for _ in range(N):\n",
    "    \n",
    "    print(a)\n",
    "    \n",
    "    a, b = b, a + b"
   ]
  },
  {
   "cell_type": "code",
   "execution_count": 52,
   "metadata": {},
   "outputs": [
    {
     "name": "stdout",
     "output_type": "stream",
     "text": [
      "1 23 5 12 9 17 10 2\n"
     ]
    },
    {
     "data": {
      "text/plain": [
       "['1', '23', '5', '12', '9', '17', '10', '2']"
      ]
     },
     "execution_count": 52,
     "metadata": {},
     "output_type": "execute_result"
    }
   ],
   "source": [
    "# 1 23 5 12 9 17 10 2\n",
    "data = input().split()\n",
    "data"
   ]
  },
  {
   "cell_type": "code",
   "execution_count": 53,
   "metadata": {},
   "outputs": [
    {
     "data": {
      "text/plain": [
       "[1, 2, 5, 9, 10, 12, 17, 23]"
      ]
     },
     "execution_count": 53,
     "metadata": {},
     "output_type": "execute_result"
    }
   ],
   "source": [
    "for i in range(len(data)):\n",
    "    data[i] = int(data[i])\n",
    "\n",
    "data.sort()\n",
    "data"
   ]
  },
  {
   "cell_type": "code",
   "execution_count": 54,
   "metadata": {},
   "outputs": [
    {
     "data": {
      "text/plain": [
       "9.5"
      ]
     },
     "execution_count": 54,
     "metadata": {},
     "output_type": "execute_result"
    }
   ],
   "source": [
    "import statistics\n",
    "statistics.median(data)"
   ]
  },
  {
   "cell_type": "code",
   "execution_count": 57,
   "metadata": {},
   "outputs": [
    {
     "name": "stdout",
     "output_type": "stream",
     "text": [
      "9.5\n"
     ]
    }
   ],
   "source": [
    "if len(data) % 2 == 0:\n",
    "    left_index = int(len(data) / 2) - 1 \n",
    "    right_index = int(len(data) / 2)\n",
    "    m = (data[left_index] + data[right_index]) / 2\n",
    "else:\n",
    "    inx = len(data) // 2\n",
    "    m = data[inx]\n",
    "    \n",
    "print(m)"
   ]
  },
  {
   "cell_type": "code",
   "execution_count": 60,
   "metadata": {},
   "outputs": [
    {
     "name": "stdout",
     "output_type": "stream",
     "text": [
      "1 23 5 12 9 17 10 2\n",
      "5\n"
     ]
    }
   ],
   "source": [
    "def is_prime(N):\n",
    "    for i in range(2, N):\n",
    "        if N % i == 0:\n",
    "            return False\n",
    "    return True\n",
    "\n",
    "# 1 23 5 12 9 17 10 2\n",
    "qty = 0\n",
    "\n",
    "data = input().split()\n",
    "\n",
    "for i in range(len(data)):\n",
    "    if is_prime(int(data[i])):\n",
    "        qty +=1\n",
    "        \n",
    "print(qty)"
   ]
  },
  {
   "cell_type": "markdown",
   "metadata": {},
   "source": [
    "Напишіть програму \"Митниця\". \n",
    "\n",
    "Алгоритм її роботи наступний: програма на вхід получає імена людей, що перетинають кордон. \n",
    "\tВвід закінчується тоді, коли введено слово \"END\"\n",
    "\tПри завершені роботи, програма виводить ім’я людини та кількість перетинів кордону. "
   ]
  },
  {
   "cell_type": "code",
   "execution_count": 61,
   "metadata": {},
   "outputs": [
    {
     "name": "stdout",
     "output_type": "stream",
     "text": [
      "Хто перетинає кордон?\n",
      "Дмитро\n",
      "Хто перетинає кордон?\n",
      "Настя\n",
      "Хто перетинає кордон?\n",
      "Антон\n",
      "Хто перетинає кордон?\n",
      "Настя\n",
      "Хто перетинає кордон?\n",
      "Дмитро\n",
      "Хто перетинає кордон?\n",
      "Антон\n",
      "Хто перетинає кордон?\n",
      "Антон\n",
      "Хто перетинає кордон?\n",
      "Ігор\n",
      "Хто перетинає кордон?\n",
      "end\n",
      "Дмитро 2\n",
      "Настя 2\n",
      "Антон 3\n",
      "Ігор 1\n"
     ]
    }
   ],
   "source": [
    "DB = {}\n",
    "\n",
    "STRING_Q = 'Хто перетинає кордон?'\n",
    "\n",
    "while True:\n",
    "    print(STRING_Q)\n",
    "    info = input()\n",
    "    \n",
    "    if info.lower() == 'end':\n",
    "        break\n",
    "    \n",
    "    if info in DB:\n",
    "        DB[info] += 1\n",
    "    else:\n",
    "        DB[info] = 1\n",
    "        \n",
    "for k, v in DB.items():\n",
    "    print(k, v)"
   ]
  },
  {
   "cell_type": "code",
   "execution_count": 62,
   "metadata": {},
   "outputs": [
    {
     "name": "stdout",
     "output_type": "stream",
     "text": [
      "Хто перетинає кордон?\n",
      "Настя\n",
      "Хто перетинає кордон?\n",
      "Ігор\n",
      "Хто перетинає кордон?\n",
      "Антон\n",
      "Хто перетинає кордон?\n",
      "Настя\n",
      "Хто перетинає кордон?\n",
      "Ігор\n",
      "Хто перетинає кордон?\n",
      "Дмитро\n",
      "Хто перетинає кордон?\n",
      "Антон\n",
      "Хто перетинає кордон?\n",
      "Настя\n",
      "Хто перетинає кордон?\n",
      "end\n"
     ]
    }
   ],
   "source": [
    "from datetime import datetime\n",
    "DB = []\n",
    "\n",
    "STRING_Q = 'Хто перетинає кордон?'\n",
    "\n",
    "while True:\n",
    "    print(STRING_Q)\n",
    "    info = input()\n",
    "    \n",
    "    if info.lower() == 'end':\n",
    "        break\n",
    "    \n",
    "    record = (info, datetime.now())\n",
    "    \n",
    "    DB.append(record)"
   ]
  },
  {
   "cell_type": "code",
   "execution_count": 63,
   "metadata": {},
   "outputs": [
    {
     "data": {
      "text/plain": [
       "[('Настя', datetime.datetime(2021, 7, 14, 20, 15, 12, 796430)),\n",
       " ('Ігор', datetime.datetime(2021, 7, 14, 20, 15, 14, 385147)),\n",
       " ('Антон', datetime.datetime(2021, 7, 14, 20, 15, 15, 907560)),\n",
       " ('Настя', datetime.datetime(2021, 7, 14, 20, 15, 17, 352604)),\n",
       " ('Ігор', datetime.datetime(2021, 7, 14, 20, 15, 19, 329272)),\n",
       " ('Дмитро', datetime.datetime(2021, 7, 14, 20, 15, 22, 862689)),\n",
       " ('Антон', datetime.datetime(2021, 7, 14, 20, 15, 25, 169530)),\n",
       " ('Настя', datetime.datetime(2021, 7, 14, 20, 15, 27, 976265))]"
      ]
     },
     "execution_count": 63,
     "metadata": {},
     "output_type": "execute_result"
    }
   ],
   "source": [
    "DB"
   ]
  },
  {
   "cell_type": "code",
   "execution_count": 64,
   "metadata": {},
   "outputs": [
    {
     "name": "stdout",
     "output_type": "stream",
     "text": [
      "Введіть імя для аналітикиНастя\n",
      "Настя перетнув(ла) кордон 3\n"
     ]
    }
   ],
   "source": [
    "name = input('Введіть імя для аналітики')\n",
    "\n",
    "qty = 0\n",
    "for record in DB:\n",
    "    if record[0] == name:\n",
    "        qty += 1\n",
    "        \n",
    "print(f'{name} перетнув(ла) кордон {qty}')"
   ]
  },
  {
   "cell_type": "code",
   "execution_count": 69,
   "metadata": {},
   "outputs": [
    {
     "name": "stdout",
     "output_type": "stream",
     "text": [
      "Результат супер формули =  nan\n"
     ]
    }
   ],
   "source": [
    "try:\n",
    "    super_formula = 1/0\n",
    "except:\n",
    "    super_formula = float('nan')\n",
    "    \n",
    "print(\"Результат супер формули = \", super_formula)"
   ]
  },
  {
   "cell_type": "code",
   "execution_count": 70,
   "metadata": {},
   "outputs": [
    {
     "name": "stdout",
     "output_type": "stream",
     "text": [
      "Помилка:  division by zero\n",
      "Результат супер формули =  nan\n"
     ]
    }
   ],
   "source": [
    "try:\n",
    "    super_formula = 1/0\n",
    "except Exception as e:\n",
    "    print('Помилка: ', e)\n",
    "    super_formula = float('nan')\n",
    "    \n",
    "print(\"Результат супер формули = \", super_formula)"
   ]
  },
  {
   "cell_type": "code",
   "execution_count": 72,
   "metadata": {},
   "outputs": [
    {
     "ename": "ValueError",
     "evalue": "could not convert string to float: 'dfg'",
     "output_type": "error",
     "traceback": [
      "\u001b[1;31m---------------------------------------------------------------------------\u001b[0m",
      "\u001b[1;31mValueError\u001b[0m                                Traceback (most recent call last)",
      "\u001b[1;32m<ipython-input-72-4f586f5e744e>\u001b[0m in \u001b[0;36m<module>\u001b[1;34m\u001b[0m\n\u001b[1;32m----> 1\u001b[1;33m \u001b[0mfloat\u001b[0m\u001b[1;33m(\u001b[0m\u001b[1;34m'dfg'\u001b[0m\u001b[1;33m)\u001b[0m\u001b[1;33m\u001b[0m\u001b[1;33m\u001b[0m\u001b[0m\n\u001b[0m",
      "\u001b[1;31mValueError\u001b[0m: could not convert string to float: 'dfg'"
     ]
    }
   ],
   "source": [
    "float('dfg')"
   ]
  },
  {
   "cell_type": "code",
   "execution_count": 86,
   "metadata": {},
   "outputs": [
    {
     "name": "stdout",
     "output_type": "stream",
     "text": [
      "1\n",
      "0\n",
      "На нуль ділити не можна\n",
      "Результат супер формули =  0.5\n"
     ]
    },
    {
     "ename": "ZeroDivisionError",
     "evalue": "",
     "output_type": "error",
     "traceback": [
      "\u001b[1;31m---------------------------------------------------------------------------\u001b[0m",
      "\u001b[1;31mZeroDivisionError\u001b[0m                         Traceback (most recent call last)",
      "\u001b[1;32m<ipython-input-86-5997960cfb7a>\u001b[0m in \u001b[0;36m<module>\u001b[1;34m\u001b[0m\n\u001b[0;32m      5\u001b[0m \u001b[1;32mtry\u001b[0m\u001b[1;33m:\u001b[0m\u001b[1;33m\u001b[0m\u001b[1;33m\u001b[0m\u001b[0m\n\u001b[1;32m----> 6\u001b[1;33m     \u001b[0msuper_formula\u001b[0m \u001b[1;33m=\u001b[0m \u001b[0mfloat\u001b[0m\u001b[1;33m(\u001b[0m\u001b[0ma\u001b[0m\u001b[1;33m)\u001b[0m\u001b[1;33m/\u001b[0m\u001b[0mfloat\u001b[0m\u001b[1;33m(\u001b[0m\u001b[0mb\u001b[0m\u001b[1;33m)\u001b[0m\u001b[1;33m\u001b[0m\u001b[1;33m\u001b[0m\u001b[0m\n\u001b[0m\u001b[0;32m      7\u001b[0m \u001b[1;32mexcept\u001b[0m \u001b[0mZeroDivisionError\u001b[0m\u001b[1;33m:\u001b[0m\u001b[1;33m\u001b[0m\u001b[1;33m\u001b[0m\u001b[0m\n",
      "\u001b[1;31mZeroDivisionError\u001b[0m: float division by zero",
      "\nDuring handling of the above exception, another exception occurred:\n",
      "\u001b[1;31mZeroDivisionError\u001b[0m                         Traceback (most recent call last)",
      "\u001b[1;32m<ipython-input-86-5997960cfb7a>\u001b[0m in \u001b[0;36m<module>\u001b[1;34m\u001b[0m\n\u001b[0;32m      7\u001b[0m \u001b[1;32mexcept\u001b[0m \u001b[0mZeroDivisionError\u001b[0m\u001b[1;33m:\u001b[0m\u001b[1;33m\u001b[0m\u001b[1;33m\u001b[0m\u001b[0m\n\u001b[0;32m      8\u001b[0m     \u001b[0mprint\u001b[0m\u001b[1;33m(\u001b[0m\u001b[1;34m'На нуль ділити не можна'\u001b[0m\u001b[1;33m)\u001b[0m\u001b[1;33m\u001b[0m\u001b[1;33m\u001b[0m\u001b[0m\n\u001b[1;32m----> 9\u001b[1;33m     \u001b[1;32mraise\u001b[0m \u001b[0mZeroDivisionError\u001b[0m\u001b[1;33m\u001b[0m\u001b[1;33m\u001b[0m\u001b[0m\n\u001b[0m\u001b[0;32m     10\u001b[0m     \u001b[0msuper_formula\u001b[0m \u001b[1;33m=\u001b[0m \u001b[0mfloat\u001b[0m\u001b[1;33m(\u001b[0m\u001b[1;34m'nan'\u001b[0m\u001b[1;33m)\u001b[0m\u001b[1;33m\u001b[0m\u001b[1;33m\u001b[0m\u001b[0m\n\u001b[0;32m     11\u001b[0m \u001b[1;32mexcept\u001b[0m \u001b[0mValueError\u001b[0m\u001b[1;33m:\u001b[0m\u001b[1;33m\u001b[0m\u001b[1;33m\u001b[0m\u001b[0m\n",
      "\u001b[1;31mZeroDivisionError\u001b[0m: "
     ]
    }
   ],
   "source": [
    "import time\n",
    "a = input()\n",
    "b = input()\n",
    "\n",
    "try:\n",
    "    super_formula = float(a)/float(b)\n",
    "except ZeroDivisionError:\n",
    "    print('На нуль ділити не можна')\n",
    "    \n",
    "    super_formula = float('nan')\n",
    "except ValueError:\n",
    "    print('Не коректно введено дані')\n",
    "    super_formula = float('nan')\n",
    "else:\n",
    "    print(\"Дані обчислюються\")\n",
    "    time.sleep(5)\n",
    "finally:\n",
    "    print(\"Результат супер формули = \", super_formula)"
   ]
  },
  {
   "cell_type": "code",
   "execution_count": 84,
   "metadata": {},
   "outputs": [
    {
     "data": {
      "text/plain": [
       "float"
      ]
     },
     "execution_count": 84,
     "metadata": {},
     "output_type": "execute_result"
    }
   ],
   "source": [
    "type(float('inf'))"
   ]
  },
  {
   "cell_type": "markdown",
   "metadata": {},
   "source": [
    "Створіть матрицю чисел 3х4. Заповніть її цілими числами від 0 до 10. Знайдіть:\n",
    "\t\t- Суму всіх чисел матриці.\n",
    "\t\t- Максимальний елемент.\n",
    "\t\t- Суму чисел в першому рядку.\n",
    "\t\t- Мінімальний елемент в  другому стовбці.\n",
    "        - Максимальний елемент по головній діагоналі (діагональ, що проходить через лівий верхній та правий нижній кути)."
   ]
  },
  {
   "cell_type": "code",
   "execution_count": 2,
   "metadata": {},
   "outputs": [
    {
     "name": "stdout",
     "output_type": "stream",
     "text": [
      "[1, 3, 0, 5]\n",
      "[0, 1, 2, 5]\n",
      "[8, 9, 2, 4]\n"
     ]
    }
   ],
   "source": [
    "import random \n",
    "\n",
    "matrixe = []\n",
    "for i in range(3):\n",
    "    row = []\n",
    "    for j in range(4):\n",
    "        row.append(random.randrange(10))\n",
    "    matrixe.append(row)\n",
    "    \n",
    "for row in matrixe:\n",
    "    print(row)"
   ]
  },
  {
   "cell_type": "code",
   "execution_count": 3,
   "metadata": {},
   "outputs": [
    {
     "data": {
      "text/plain": [
       "40"
      ]
     },
     "execution_count": 3,
     "metadata": {},
     "output_type": "execute_result"
    }
   ],
   "source": [
    "# Суму всіх чисел матриці.\n",
    "\n",
    "matrixe_sum = 0\n",
    "\n",
    "for row in matrixe:\n",
    "    matrixe_sum += sum(row)\n",
    "    \n",
    "matrixe_sum"
   ]
  },
  {
   "cell_type": "code",
   "execution_count": 6,
   "metadata": {},
   "outputs": [
    {
     "name": "stdout",
     "output_type": "stream",
     "text": [
      "Max =  9\n"
     ]
    }
   ],
   "source": [
    "# Максимальний елемент\n",
    "matrixe_max = matrixe[0][0]\n",
    "\n",
    "for row in matrixe:\n",
    "    for j in row:\n",
    "        if j > matrixe_max:\n",
    "            matrixe_max = j\n",
    "            \n",
    "print('Max = ', matrixe_max)"
   ]
  },
  {
   "cell_type": "code",
   "execution_count": 7,
   "metadata": {},
   "outputs": [
    {
     "data": {
      "text/plain": [
       "9"
      ]
     },
     "execution_count": 7,
     "metadata": {},
     "output_type": "execute_result"
    }
   ],
   "source": [
    "# Суму чисел в першому рядку\n",
    "\n",
    "sum(matrixe[0])"
   ]
  },
  {
   "cell_type": "code",
   "execution_count": 10,
   "metadata": {},
   "outputs": [
    {
     "name": "stdout",
     "output_type": "stream",
     "text": [
      "1\n"
     ]
    }
   ],
   "source": [
    "# Мінімальний елемент в  другому стовбці.\n",
    "\n",
    "row_min = matrixe[0][1]\n",
    "\n",
    "for row in matrixe:\n",
    "    if row[1] < row_min:\n",
    "        row_min = row[1]\n",
    "\n",
    "print(row_min)"
   ]
  },
  {
   "cell_type": "code",
   "execution_count": 14,
   "metadata": {},
   "outputs": [
    {
     "name": "stdout",
     "output_type": "stream",
     "text": [
      "2\n"
     ]
    }
   ],
   "source": [
    "# Максимальний елемент по головній діагоналі (діагональ, що проходить через лівий верхній та правий нижній кути)\n",
    "diag_max = matrixe[0][0]\n",
    "\n",
    "for i in range(len(matrixe)):\n",
    "    for j in range(len(matrixe[i])):\n",
    "        if i == j:\n",
    "            if matrixe[i][j] > diag_max:\n",
    "                diag_max = matrixe[i][j]\n",
    "                \n",
    "print(diag_max)\n",
    "        "
   ]
  },
  {
   "cell_type": "code",
   "execution_count": 15,
   "metadata": {},
   "outputs": [
    {
     "name": "stdout",
     "output_type": "stream",
     "text": [
      "1\n",
      "1\n",
      "2\n"
     ]
    }
   ],
   "source": [
    "for i in range(len(matrixe)):\n",
    "    print(matrixe[i][i])"
   ]
  },
  {
   "cell_type": "code",
   "execution_count": 28,
   "metadata": {},
   "outputs": [],
   "source": [
    "x = [(100,2), (-1,2), (1,4), (1000,2000), (-1,2), (25,1000)]"
   ]
  },
  {
   "cell_type": "code",
   "execution_count": 29,
   "metadata": {},
   "outputs": [
    {
     "data": {
      "text/plain": [
       "(1000, 2000)"
      ]
     },
     "execution_count": 29,
     "metadata": {},
     "output_type": "execute_result"
    }
   ],
   "source": [
    "def my_max(el):\n",
    "    return el[1]\n",
    "    \n",
    "\n",
    "\n",
    "\n",
    "max(x, key = my_max)"
   ]
  },
  {
   "cell_type": "code",
   "execution_count": 30,
   "metadata": {},
   "outputs": [
    {
     "data": {
      "text/plain": [
       "(1000, 2000)"
      ]
     },
     "execution_count": 30,
     "metadata": {},
     "output_type": "execute_result"
    }
   ],
   "source": [
    "max(x, key = lambda el: el[1] )"
   ]
  },
  {
   "cell_type": "code",
   "execution_count": 32,
   "metadata": {},
   "outputs": [
    {
     "data": {
      "text/plain": [
       "(1000, 2000)"
      ]
     },
     "execution_count": 32,
     "metadata": {},
     "output_type": "execute_result"
    }
   ],
   "source": [
    "def my_max(el):\n",
    "    return el[1] + el[0]\n",
    "    \n",
    "\n",
    "max(x, key = my_max)"
   ]
  },
  {
   "cell_type": "code",
   "execution_count": 35,
   "metadata": {},
   "outputs": [
    {
     "data": {
      "text/plain": [
       "[(-1, 2), (1, 4), (-1, 2), (25, 1000), (100, 2), (1000, 2000)]"
      ]
     },
     "execution_count": 35,
     "metadata": {},
     "output_type": "execute_result"
    }
   ],
   "source": [
    "def qty_even(el):\n",
    "    qty = 0\n",
    "    for i in el:\n",
    "        if i % 2 == 0:\n",
    "            qty += 1\n",
    "            \n",
    "    return qty\n",
    "\n",
    "sorted(x, key=qty_even)"
   ]
  },
  {
   "cell_type": "code",
   "execution_count": 36,
   "metadata": {},
   "outputs": [],
   "source": [
    "parking = {'Place 1': 200,\n",
    "            'Place 2': 300,\n",
    "            'Place 3': 150,\n",
    "            'Place 4': 130 \n",
    "          }"
   ]
  },
  {
   "cell_type": "code",
   "execution_count": 42,
   "metadata": {},
   "outputs": [
    {
     "data": {
      "text/plain": [
       "['Place 4', 'Place 3', 'Place 1', 'Place 2']"
      ]
     },
     "execution_count": 42,
     "metadata": {},
     "output_type": "execute_result"
    }
   ],
   "source": [
    "sorted(parking, key = lambda k: parking[k])"
   ]
  },
  {
   "cell_type": "code",
   "execution_count": 43,
   "metadata": {},
   "outputs": [
    {
     "data": {
      "text/plain": [
       "[1, 4, 9, 16]"
      ]
     },
     "execution_count": 43,
     "metadata": {},
     "output_type": "execute_result"
    }
   ],
   "source": [
    "y = [1, 2, 3, 4]\n",
    "\n",
    "\n",
    "new_y = []\n",
    "\n",
    "for el in y:\n",
    "    new_y.append(el**2)\n",
    "    \n",
    "new_y"
   ]
  },
  {
   "cell_type": "code",
   "execution_count": 47,
   "metadata": {},
   "outputs": [
    {
     "data": {
      "text/plain": [
       "[1, 4, 9, 16]"
      ]
     },
     "execution_count": 47,
     "metadata": {},
     "output_type": "execute_result"
    }
   ],
   "source": [
    "list(map(lambda el: el**2, y))"
   ]
  },
  {
   "cell_type": "code",
   "execution_count": 48,
   "metadata": {},
   "outputs": [],
   "source": [
    "y = ['1', '23', '5', '12', '9', '17', '10', '2']"
   ]
  },
  {
   "cell_type": "code",
   "execution_count": 51,
   "metadata": {},
   "outputs": [
    {
     "data": {
      "text/plain": [
       "['1 $', '23 $', '5 $', '12 $', '9 $', '17 $', '10 $', '2 $']"
      ]
     },
     "execution_count": 51,
     "metadata": {},
     "output_type": "execute_result"
    }
   ],
   "source": [
    "list(map(lambda el: el+' $', y))"
   ]
  },
  {
   "cell_type": "code",
   "execution_count": 53,
   "metadata": {},
   "outputs": [
    {
     "data": {
      "text/plain": [
       "['12', '10', '2']"
      ]
     },
     "execution_count": 53,
     "metadata": {},
     "output_type": "execute_result"
    }
   ],
   "source": [
    "y = ['1', '23', '5', '12', '9', '17', '10', '2']\n",
    "\n",
    "list(filter(lambda el: int(el) % 2 == 0 , y))"
   ]
  },
  {
   "cell_type": "code",
   "execution_count": null,
   "metadata": {},
   "outputs": [],
   "source": []
  },
  {
   "cell_type": "code",
   "execution_count": null,
   "metadata": {},
   "outputs": [],
   "source": [
    "y = ['1', '23', '5', '12', '9', '17', '10', '2']"
   ]
  },
  {
   "cell_type": "code",
   "execution_count": 57,
   "metadata": {},
   "outputs": [
    {
     "data": {
      "text/plain": [
       "[12, 10, 2]"
      ]
     },
     "execution_count": 57,
     "metadata": {},
     "output_type": "execute_result"
    }
   ],
   "source": [
    "[int(el)  for el in y if int(el) % 2 == 0]"
   ]
  },
  {
   "cell_type": "markdown",
   "metadata": {},
   "source": [
    "1. Дана послідовність чисел. Піднесіть всі елементи до квадрату та\n",
    "виведіть список"
   ]
  },
  {
   "cell_type": "code",
   "execution_count": 59,
   "metadata": {},
   "outputs": [],
   "source": [
    "y = [1, 2, 3, 4, 7, 9, 0]"
   ]
  },
  {
   "cell_type": "code",
   "execution_count": 60,
   "metadata": {},
   "outputs": [
    {
     "data": {
      "text/plain": [
       "[1, 4, 9, 16, 49, 81, 0]"
      ]
     },
     "execution_count": 60,
     "metadata": {},
     "output_type": "execute_result"
    }
   ],
   "source": [
    "list(map(lambda el: el**2, y))"
   ]
  },
  {
   "cell_type": "code",
   "execution_count": 64,
   "metadata": {},
   "outputs": [
    {
     "data": {
      "text/plain": [
       "[1, 4, 9, 16, 49, 81, 0]"
      ]
     },
     "execution_count": 64,
     "metadata": {},
     "output_type": "execute_result"
    }
   ],
   "source": [
    "[ell**2 for ell in y]"
   ]
  },
  {
   "cell_type": "markdown",
   "metadata": {},
   "source": [
    "2. Напишіть функцію, що приймає координати двох точок та\n",
    "виводить відстань між ними"
   ]
  },
  {
   "cell_type": "code",
   "execution_count": 85,
   "metadata": {},
   "outputs": [
    {
     "name": "stdout",
     "output_type": "stream",
     "text": [
      "200 200\n",
      "Найближче віділення BANK_1 за 207.2 км\n"
     ]
    }
   ],
   "source": [
    "import math\n",
    "BANKS = {'BANK_1' : (53, 54),\n",
    "         'BANK_2' : (19, 13),\n",
    "         'BANK_3' : (25, 66)\n",
    "        }\n",
    "\n",
    "\n",
    "\n",
    "def distance(user_location, bank_location):\n",
    "    distance = math.sqrt(\n",
    "        (user_location[0] - bank_location[0])**2 + (user_location[1] - bank_location[1])**2)\n",
    "    return distance\n",
    "\n",
    "user_location = [int(el) for el in input().split()]\n",
    "\n",
    "min_distance = float('inf')\n",
    "name_bank_with_min_dist = None\n",
    "\n",
    "for bank, b_l in BANKS.items():\n",
    "    dis = distance(user_location, b_l)\n",
    "    if dis < min_distance:\n",
    "        min_distance = dis\n",
    "        name_bank_with_min_dist = bank\n",
    "        \n",
    "print(f'Найближче віділення {name_bank_with_min_dist} за {round(min_distance, 1)} км')\n",
    "        \n",
    "    "
   ]
  },
  {
   "cell_type": "markdown",
   "metadata": {},
   "source": [
    "3. Дана послідовність натуральних чисел. Відфільтруйте та виведіть\n",
    "лише прості числа"
   ]
  },
  {
   "cell_type": "code",
   "execution_count": 87,
   "metadata": {},
   "outputs": [
    {
     "data": {
      "text/plain": [
       "[2, 7, 89]"
      ]
     },
     "execution_count": 87,
     "metadata": {},
     "output_type": "execute_result"
    }
   ],
   "source": [
    "def is_prime(N):\n",
    "    if N == 1:\n",
    "        return False\n",
    "    for i in range(2, N):\n",
    "        if N % i == 0:\n",
    "            return False\n",
    "    return True\n",
    "\n",
    "y = [1, 2, 34, 56, 7, 89]\n",
    "\n",
    "list(filter(is_prime, y))"
   ]
  },
  {
   "cell_type": "markdown",
   "metadata": {},
   "source": [
    "4. Дано список, елементи якого є слова. Змініть літеру кожного слова\n",
    "на велику та виведіть отриманий список"
   ]
  },
  {
   "cell_type": "code",
   "execution_count": 88,
   "metadata": {},
   "outputs": [
    {
     "data": {
      "text/plain": [
       "['IHOR', 'ЄВГЕН', 'АННА', 'ДМИТРО', 'КАТЕРИНА', 'ЛІДІЯ']"
      ]
     },
     "execution_count": 88,
     "metadata": {},
     "output_type": "execute_result"
    }
   ],
   "source": [
    "list_with_students = ['Ihor', 'Євген', 'Анна', 'Дмитро', 'Катерина', 'Лідія']\n",
    "\n",
    "[name.upper() for name in list_with_students]"
   ]
  },
  {
   "cell_type": "code",
   "execution_count": 91,
   "metadata": {},
   "outputs": [
    {
     "data": {
      "text/plain": [
       "['IHOR', 'ЄВГЕН', 'АННА', 'ДМИТРО', 'КАТЕРИНА', 'ЛІДІЯ']"
      ]
     },
     "execution_count": 91,
     "metadata": {},
     "output_type": "execute_result"
    }
   ],
   "source": [
    "list(map(str.upper, list_with_students))"
   ]
  },
  {
   "cell_type": "code",
   "execution_count": 92,
   "metadata": {},
   "outputs": [
    {
     "data": {
      "text/plain": [
       "['IHOR', 'ЄВГЕН', 'АННА', 'ДМИТРО', 'КАТЕРИНА', 'ЛІДІЯ']"
      ]
     },
     "execution_count": 92,
     "metadata": {},
     "output_type": "execute_result"
    }
   ],
   "source": [
    "list(map(lambda name: name.upper(), list_with_students))"
   ]
  },
  {
   "cell_type": "code",
   "execution_count": 94,
   "metadata": {},
   "outputs": [
    {
     "name": "stdout",
     "output_type": "stream",
     "text": [
      "(1, 3, 6, 10)\n"
     ]
    }
   ],
   "source": [
    "def foo(*a):\n",
    "    print(a)\n",
    "    \n",
    "foo(1, 3, 6, 10)"
   ]
  },
  {
   "cell_type": "code",
   "execution_count": null,
   "metadata": {},
   "outputs": [],
   "source": []
  }
 ],
 "metadata": {
  "kernelspec": {
   "display_name": "Python 3",
   "language": "python",
   "name": "python3"
  },
  "language_info": {
   "codemirror_mode": {
    "name": "ipython",
    "version": 3
   },
   "file_extension": ".py",
   "mimetype": "text/x-python",
   "name": "python",
   "nbconvert_exporter": "python",
   "pygments_lexer": "ipython3",
   "version": "3.7.6"
  }
 },
 "nbformat": 4,
 "nbformat_minor": 4
}
