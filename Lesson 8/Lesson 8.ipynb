{
 "cells": [
  {
   "cell_type": "code",
   "execution_count": 2,
   "metadata": {},
   "outputs": [
    {
     "data": {
      "text/plain": [
       "[1.7380061601068462, 2.732920370249997, 3.405283780299374]"
      ]
     },
     "execution_count": 2,
     "metadata": {},
     "output_type": "execute_result"
    }
   ],
   "source": [
    "import random\n",
    "L= list(map(lambda i: i + random.random()  , [1,2,3]))\n",
    "L"
   ]
  },
  {
   "cell_type": "code",
   "execution_count": 6,
   "metadata": {},
   "outputs": [
    {
     "data": {
      "text/plain": [
       "[2.474852100104367, 4.001573517389743]"
      ]
     },
     "execution_count": 6,
     "metadata": {},
     "output_type": "execute_result"
    }
   ],
   "source": [
    "list(map(lambda i: i + random.random(), filter(lambda i: i % 2 == 0, [1,2,3, 4])) )"
   ]
  },
  {
   "cell_type": "code",
   "execution_count": 7,
   "metadata": {},
   "outputs": [
    {
     "data": {
      "text/plain": [
       "'Odd'"
      ]
     },
     "execution_count": 7,
     "metadata": {},
     "output_type": "execute_result"
    }
   ],
   "source": [
    "def foo(N):\n",
    "    if N % 2 == 0:\n",
    "        return 'Even'\n",
    "    else:\n",
    "        return 'Odd'\n",
    "    \n",
    "foo(25)"
   ]
  },
  {
   "cell_type": "code",
   "execution_count": 9,
   "metadata": {},
   "outputs": [
    {
     "data": {
      "text/plain": [
       "'Even'"
      ]
     },
     "execution_count": 9,
     "metadata": {},
     "output_type": "execute_result"
    }
   ],
   "source": [
    "def foo(N):\n",
    "    return  'Even' if N % 2 == 0 else 'Odd'\n",
    "    \n",
    "foo(12)"
   ]
  },
  {
   "cell_type": "code",
   "execution_count": 12,
   "metadata": {},
   "outputs": [],
   "source": [
    "l = (i for i in range(10))"
   ]
  },
  {
   "cell_type": "code",
   "execution_count": 19,
   "metadata": {},
   "outputs": [
    {
     "data": {
      "text/plain": [
       "5"
      ]
     },
     "execution_count": 19,
     "metadata": {},
     "output_type": "execute_result"
    }
   ],
   "source": [
    "l.__next__()"
   ]
  },
  {
   "cell_type": "code",
   "execution_count": 20,
   "metadata": {},
   "outputs": [],
   "source": [
    "def foo():\n",
    "    for i in range(10):\n",
    "        yield i"
   ]
  },
  {
   "cell_type": "code",
   "execution_count": 21,
   "metadata": {},
   "outputs": [],
   "source": [
    "a = foo()"
   ]
  },
  {
   "cell_type": "code",
   "execution_count": 33,
   "metadata": {},
   "outputs": [
    {
     "ename": "StopIteration",
     "evalue": "",
     "output_type": "error",
     "traceback": [
      "\u001b[1;31m---------------------------------------------------------------------------\u001b[0m",
      "\u001b[1;31mStopIteration\u001b[0m                             Traceback (most recent call last)",
      "\u001b[1;32m<ipython-input-33-d34d2a8c0899>\u001b[0m in \u001b[0;36m<module>\u001b[1;34m\u001b[0m\n\u001b[1;32m----> 1\u001b[1;33m \u001b[0ma\u001b[0m\u001b[1;33m.\u001b[0m\u001b[0m__next__\u001b[0m\u001b[1;33m(\u001b[0m\u001b[1;33m)\u001b[0m\u001b[1;33m\u001b[0m\u001b[1;33m\u001b[0m\u001b[0m\n\u001b[0m",
      "\u001b[1;31mStopIteration\u001b[0m: "
     ]
    }
   ],
   "source": [
    "a.__next__()"
   ]
  },
  {
   "cell_type": "code",
   "execution_count": 34,
   "metadata": {},
   "outputs": [
    {
     "name": "stdout",
     "output_type": "stream",
     "text": [
      "0\n",
      "1\n",
      "2\n",
      "3\n",
      "4\n",
      "5\n",
      "6\n",
      "7\n",
      "8\n",
      "9\n"
     ]
    }
   ],
   "source": [
    "map(sqrt, [2,3,4,5])"
   ]
  },
  {
   "cell_type": "code",
   "execution_count": 35,
   "metadata": {},
   "outputs": [
    {
     "ename": "SyntaxError",
     "evalue": "invalid syntax (<ipython-input-35-df79414b6826>, line 2)",
     "output_type": "error",
     "traceback": [
      "\u001b[1;36m  File \u001b[1;32m\"<ipython-input-35-df79414b6826>\"\u001b[1;36m, line \u001b[1;32m2\u001b[0m\n\u001b[1;33m    retrun 'something'\u001b[0m\n\u001b[1;37m                     ^\u001b[0m\n\u001b[1;31mSyntaxError\u001b[0m\u001b[1;31m:\u001b[0m invalid syntax\n"
     ]
    }
   ],
   "source": [
    "def foo(X):\n",
    "    retrun 'something'\n",
    "    \n",
    "lambda X: 'something'"
   ]
  },
  {
   "cell_type": "code",
   "execution_count": 39,
   "metadata": {},
   "outputs": [
    {
     "data": {
      "text/plain": [
       "<_io.TextIOWrapper name='ds_7.txt' mode='w' encoding='UTF-8'>"
      ]
     },
     "execution_count": 39,
     "metadata": {},
     "output_type": "execute_result"
    }
   ],
   "source": [
    "open('ds_7.txt', 'w', encoding='UTF-8')"
   ]
  },
  {
   "cell_type": "code",
   "execution_count": 54,
   "metadata": {},
   "outputs": [
    {
     "name": "stdout",
     "output_type": "stream",
     "text": [
      "['Hello, its my first file!!!!!!']\n"
     ]
    }
   ],
   "source": [
    "f = open('ds_7.txt')\n",
    "\n",
    "print(f.readlines())\n",
    "\n",
    "\n",
    "f.close()"
   ]
  },
  {
   "cell_type": "code",
   "execution_count": 52,
   "metadata": {},
   "outputs": [
    {
     "data": {
      "text/plain": [
       "<_io.TextIOWrapper name='file' mode='w' encoding='cp1251'>"
      ]
     },
     "execution_count": 52,
     "metadata": {},
     "output_type": "execute_result"
    }
   ],
   "source": [
    "open('file', 'w')"
   ]
  },
  {
   "cell_type": "code",
   "execution_count": 55,
   "metadata": {},
   "outputs": [],
   "source": [
    "f = open('ds_7.txt', 'w')\n",
    "\n",
    "f.write('My new text')\n",
    "\n",
    "\n",
    "f.close()"
   ]
  },
  {
   "cell_type": "markdown",
   "metadata": {},
   "source": [
    "Завантажте файл \"Homework-06-base.txt\" із мого репозиторію.\n",
    "У файлі мітиться інформація про товарні позиції деякого інтернет-магазину, а саме:\n",
    "- Ариткул - унікальний номер товарної позиції\n",
    "- Найменування - найменування товару\n",
    "- Наявність - чи є товарна позиція в даний момент\n",
    "- Ціна - вартість товарної позиції\n",
    "\n",
    "Вам потрібно отримати таку інформацію:\n",
    "\t\t- кількість товарних позицій у файлі\n",
    "\t\t- кількість товарних позицій, що в наявності\n",
    "    \t\t- ціна та назва найдорожчої товарної позиції"
   ]
  },
  {
   "cell_type": "code",
   "execution_count": 59,
   "metadata": {},
   "outputs": [
    {
     "name": "stdout",
     "output_type": "stream",
     "text": [
      "B81410|Антифриз BIZOL G11 синий (концентрант) 1л|В наличии|183 грн\n",
      "\n",
      "B81411|Антифриз BIZOL G11 синий (концентрант) 5л|В наличии|757 грн\n",
      "\n",
      "B81430|Антифриз BIZOL G12+ красный (концентрант) 1л|В наличии|192 грн\n",
      "\n",
      "B81431|Антифриз BIZOL G12+ красный (концентрант) 5л|В наличии|798 грн\n",
      "\n",
      "CS RADICOOL SF 1L|Антифриз Castrol RADICOOL G12+ красный (концентрант) 1 л|В наличии|189 грн\n",
      "\n",
      "2374|Антифриз FEBI G11 желтый (концентрант) 1.5 л|В наличии|216 грн\n",
      "\n",
      "1089|Антифриз FEBI G11 синий (концентрант) 1.5 л|В наличии|175 грн\n",
      "\n",
      "1381|Антифриз FEBI G12 красный (концентрант) 1.5 л|В наличии|190 грн\n",
      "\n",
      "19400|Антифриз FEBI G12+ фиолетовый (концентрат) 1.5 л|В наличии|197 грн\n",
      "\n",
      "38200|Антифриз FEBI G13 фиолетовый (концентрат) 1.5 л|В наличии|258 грн\n",
      "\n",
      "1940663|Антифриз GM (Европа) Long Life G12 красный (концентрант) 1л|Нет в наличии|120 грн\n",
      "\n",
      "93742646|Антифриз GM DEXCOOL G12+ красный (концентрант) 2л|В наличии|490 грн\n",
      "\n",
      "P999-YLW|Антифриз HEPU G11 желтый (концентрант) 1.5 л|В наличии|190 грн\n",
      "\n",
      "P999-YLW-005|Антифриз HEPU G11 желтый (концентрант) 5л|В наличии|612 грн\n",
      "\n",
      "P999-GRN|Антифриз HEPU G11 зеленый (концентрант) 1.5 л|В наличии|193 грн\n"
     ]
    }
   ],
   "source": [
    "f = open('ds_7.txt', encoding='UTF-8')\n",
    "\n",
    "l = f.readlines()\n",
    "for line in l:\n",
    "    print(line)\n",
    "\n",
    "f.close()"
   ]
  },
  {
   "cell_type": "code",
   "execution_count": 64,
   "metadata": {},
   "outputs": [
    {
     "data": {
      "text/plain": [
       "{'B81410': ['Антифриз BIZOL G11 синий (концентрант) 1л', 'В наличии', 183],\n",
       " 'B81411': ['Антифриз BIZOL G11 синий (концентрант) 5л', 'В наличии', 757],\n",
       " 'B81430': ['Антифриз BIZOL G12+ красный (концентрант) 1л', 'В наличии', 192],\n",
       " 'B81431': ['Антифриз BIZOL G12+ красный (концентрант) 5л', 'В наличии', 798],\n",
       " 'CS RADICOOL SF 1L': ['Антифриз Castrol RADICOOL G12+ красный (концентрант) 1 л',\n",
       "  'В наличии',\n",
       "  189],\n",
       " '2374': ['Антифриз FEBI G11 желтый (концентрант) 1.5 л', 'В наличии', 216],\n",
       " '1089': ['Антифриз FEBI G11 синий (концентрант) 1.5 л', 'В наличии', 175],\n",
       " '1381': ['Антифриз FEBI G12 красный (концентрант) 1.5 л', 'В наличии', 190],\n",
       " '19400': ['Антифриз FEBI G12+ фиолетовый (концентрат) 1.5 л',\n",
       "  'В наличии',\n",
       "  197],\n",
       " '38200': ['Антифриз FEBI G13 фиолетовый (концентрат) 1.5 л',\n",
       "  'В наличии',\n",
       "  258],\n",
       " '1940663': ['Антифриз GM (Европа) Long Life G12 красный (концентрант) 1л',\n",
       "  'Нет в наличии',\n",
       "  120],\n",
       " '93742646': ['Антифриз GM DEXCOOL G12+ красный (концентрант) 2л',\n",
       "  'В наличии',\n",
       "  490],\n",
       " 'P999-YLW': ['Антифриз HEPU G11 желтый (концентрант) 1.5 л',\n",
       "  'В наличии',\n",
       "  190],\n",
       " 'P999-YLW-005': ['Антифриз HEPU G11 желтый (концентрант) 5л',\n",
       "  'В наличии',\n",
       "  612],\n",
       " 'P999-GRN': ['Антифриз HEPU G11 зеленый (концентрант) 1.5 л',\n",
       "  'В наличии',\n",
       "  193]}"
      ]
     },
     "execution_count": 64,
     "metadata": {},
     "output_type": "execute_result"
    }
   ],
   "source": [
    "DF = {}\n",
    "\n",
    "\n",
    "for line in open('ds_7.txt', encoding='UTF-8'):\n",
    "    tmp = line.split('|')\n",
    "    \n",
    "    part = tmp[0]\n",
    "    name = tmp[1]\n",
    "    on_stock = tmp[2]\n",
    "    price = int(tmp[3].split()[0])\n",
    "    \n",
    "    DF[part] = [name, on_stock, price]\n",
    "    \n",
    "    \n",
    "\n",
    "f.close()\n",
    "\n",
    "DF"
   ]
  },
  {
   "cell_type": "code",
   "execution_count": 65,
   "metadata": {},
   "outputs": [
    {
     "data": {
      "text/plain": [
       "15"
      ]
     },
     "execution_count": 65,
     "metadata": {},
     "output_type": "execute_result"
    }
   ],
   "source": [
    "len(DF)"
   ]
  },
  {
   "cell_type": "code",
   "execution_count": 66,
   "metadata": {},
   "outputs": [
    {
     "data": {
      "text/plain": [
       "14"
      ]
     },
     "execution_count": 66,
     "metadata": {},
     "output_type": "execute_result"
    }
   ],
   "source": [
    "qty = 0\n",
    "for part in DF:\n",
    "    if DF[part][1] == 'В наличии':\n",
    "        qty += 1\n",
    "        \n",
    "qty"
   ]
  },
  {
   "cell_type": "code",
   "execution_count": 69,
   "metadata": {},
   "outputs": [
    {
     "data": {
      "text/plain": [
       "14"
      ]
     },
     "execution_count": 69,
     "metadata": {},
     "output_type": "execute_result"
    }
   ],
   "source": [
    "len(list(filter(lambda part: DF[part][1] == 'В наличии' ,DF)))"
   ]
  },
  {
   "cell_type": "code",
   "execution_count": 71,
   "metadata": {},
   "outputs": [
    {
     "name": "stdout",
     "output_type": "stream",
     "text": [
      "1940663 ['Антифриз GM (Европа) Long Life G12 красный (концентрант) 1л', 'Нет в наличии', 120]\n"
     ]
    }
   ],
   "source": [
    "\n",
    "for part in DF:\n",
    "    if DF[part][1] != 'В наличии':\n",
    "        print(part, DF[part])\n",
    "        "
   ]
  },
  {
   "cell_type": "code",
   "execution_count": 72,
   "metadata": {},
   "outputs": [
    {
     "name": "stdout",
     "output_type": "stream",
     "text": [
      "Антифриз BIZOL G12+ красный (концентрант) 5л 798\n"
     ]
    }
   ],
   "source": [
    "price = -1\n",
    "name = None\n",
    "\n",
    "for part in DF:\n",
    "    if DF[part][2] > price:\n",
    "        price = DF[part][2]\n",
    "        name = DF[part][0]\n",
    "        \n",
    "print(name, price)"
   ]
  },
  {
   "cell_type": "code",
   "execution_count": 76,
   "metadata": {},
   "outputs": [
    {
     "data": {
      "text/plain": [
       "['Антифриз BIZOL G12+ красный (концентрант) 5л', 'В наличии', 798]"
      ]
     },
     "execution_count": 76,
     "metadata": {},
     "output_type": "execute_result"
    }
   ],
   "source": [
    "DF[sorted(DF, key = lambda part: DF[part][2])[-1]]"
   ]
  },
  {
   "cell_type": "code",
   "execution_count": 77,
   "metadata": {},
   "outputs": [
    {
     "name": "stdout",
     "output_type": "stream",
     "text": [
      "BIZOL Добавити цього постачальника 4 елементом в список через append\n"
     ]
    }
   ],
   "source": [
    "manufacturer = ['BIZOL', 'AAA']\n",
    "\n",
    "line = 'Антифриз BIZOL G12+ красный (концентрант) 5л'\n",
    "\n",
    "for m in manufacturer:\n",
    "    if m in line:\n",
    "        print( f'{m} Добавити цього постачальника 4 елементом в список через append')"
   ]
  },
  {
   "cell_type": "code",
   "execution_count": 78,
   "metadata": {},
   "outputs": [
    {
     "data": {
      "text/plain": [
       "{'B81410': ['Антифриз BIZOL G11 синий (концентрант) 1л', 'В наличии', 183],\n",
       " 'B81411': ['Антифриз BIZOL G11 синий (концентрант) 5л', 'В наличии', 757],\n",
       " 'B81430': ['Антифриз BIZOL G12+ красный (концентрант) 1л', 'В наличии', 192],\n",
       " 'B81431': ['Антифриз BIZOL G12+ красный (концентрант) 5л', 'В наличии', 798],\n",
       " 'CS RADICOOL SF 1L': ['Антифриз Castrol RADICOOL G12+ красный (концентрант) 1 л',\n",
       "  'В наличии',\n",
       "  189],\n",
       " '2374': ['Антифриз FEBI G11 желтый (концентрант) 1.5 л', 'В наличии', 216],\n",
       " '1089': ['Антифриз FEBI G11 синий (концентрант) 1.5 л', 'В наличии', 175],\n",
       " '1381': ['Антифриз FEBI G12 красный (концентрант) 1.5 л', 'В наличии', 190],\n",
       " '19400': ['Антифриз FEBI G12+ фиолетовый (концентрат) 1.5 л',\n",
       "  'В наличии',\n",
       "  197],\n",
       " '38200': ['Антифриз FEBI G13 фиолетовый (концентрат) 1.5 л',\n",
       "  'В наличии',\n",
       "  258],\n",
       " '1940663': ['Антифриз GM (Европа) Long Life G12 красный (концентрант) 1л',\n",
       "  'Нет в наличии',\n",
       "  120],\n",
       " '93742646': ['Антифриз GM DEXCOOL G12+ красный (концентрант) 2л',\n",
       "  'В наличии',\n",
       "  490],\n",
       " 'P999-YLW': ['Антифриз HEPU G11 желтый (концентрант) 1.5 л',\n",
       "  'В наличии',\n",
       "  190],\n",
       " 'P999-YLW-005': ['Антифриз HEPU G11 желтый (концентрант) 5л',\n",
       "  'В наличии',\n",
       "  612],\n",
       " 'P999-GRN': ['Антифриз HEPU G11 зеленый (концентрант) 1.5 л',\n",
       "  'В наличии',\n",
       "  193]}"
      ]
     },
     "execution_count": 78,
     "metadata": {},
     "output_type": "execute_result"
    }
   ],
   "source": [
    "DF"
   ]
  },
  {
   "cell_type": "code",
   "execution_count": 79,
   "metadata": {},
   "outputs": [],
   "source": [
    "# import pickle\n",
    "\n",
    "# f = open('my_db.pickle', 'wb')\n",
    "\n",
    "# pickle.dump(DF, f)\n",
    "\n",
    "# f.close()\n"
   ]
  },
  {
   "cell_type": "code",
   "execution_count": 81,
   "metadata": {},
   "outputs": [],
   "source": [
    "import pickle\n",
    "\n",
    "f = open('my_db.pickle', 'rb')\n",
    "new_df = pickle.load(f)\n",
    "f.close()"
   ]
  },
  {
   "cell_type": "code",
   "execution_count": 82,
   "metadata": {},
   "outputs": [
    {
     "data": {
      "text/plain": [
       "{'B81410': ['Антифриз BIZOL G11 синий (концентрант) 1л', 'В наличии', 183],\n",
       " 'B81411': ['Антифриз BIZOL G11 синий (концентрант) 5л', 'В наличии', 757],\n",
       " 'B81430': ['Антифриз BIZOL G12+ красный (концентрант) 1л', 'В наличии', 192],\n",
       " 'B81431': ['Антифриз BIZOL G12+ красный (концентрант) 5л', 'В наличии', 798],\n",
       " 'CS RADICOOL SF 1L': ['Антифриз Castrol RADICOOL G12+ красный (концентрант) 1 л',\n",
       "  'В наличии',\n",
       "  189],\n",
       " '2374': ['Антифриз FEBI G11 желтый (концентрант) 1.5 л', 'В наличии', 216],\n",
       " '1089': ['Антифриз FEBI G11 синий (концентрант) 1.5 л', 'В наличии', 175],\n",
       " '1381': ['Антифриз FEBI G12 красный (концентрант) 1.5 л', 'В наличии', 190],\n",
       " '19400': ['Антифриз FEBI G12+ фиолетовый (концентрат) 1.5 л',\n",
       "  'В наличии',\n",
       "  197],\n",
       " '38200': ['Антифриз FEBI G13 фиолетовый (концентрат) 1.5 л',\n",
       "  'В наличии',\n",
       "  258],\n",
       " '1940663': ['Антифриз GM (Европа) Long Life G12 красный (концентрант) 1л',\n",
       "  'Нет в наличии',\n",
       "  120],\n",
       " '93742646': ['Антифриз GM DEXCOOL G12+ красный (концентрант) 2л',\n",
       "  'В наличии',\n",
       "  490],\n",
       " 'P999-YLW': ['Антифриз HEPU G11 желтый (концентрант) 1.5 л',\n",
       "  'В наличии',\n",
       "  190],\n",
       " 'P999-YLW-005': ['Антифриз HEPU G11 желтый (концентрант) 5л',\n",
       "  'В наличии',\n",
       "  612],\n",
       " 'P999-GRN': ['Антифриз HEPU G11 зеленый (концентрант) 1.5 л',\n",
       "  'В наличии',\n",
       "  193]}"
      ]
     },
     "execution_count": 82,
     "metadata": {},
     "output_type": "execute_result"
    }
   ],
   "source": [
    "new_df"
   ]
  },
  {
   "cell_type": "code",
   "execution_count": 84,
   "metadata": {},
   "outputs": [
    {
     "name": "stdout",
     "output_type": "stream",
     "text": [
      "B81410|Антифриз BIZOL G11 синий (концентрант) 1л|В наличии|183 грн\n",
      "B81411|Антифриз BIZOL G11 синий (концентрант) 5л|В наличии|757 грн\n",
      "B81430|Антифриз BIZOL G12+ красный (концентрант) 1л|В наличии|192 грн\n",
      "B81431|Антифриз BIZOL G12+ красный (концентрант) 5л|В наличии|798 грн\n",
      "CS RADICOOL SF 1L|Антифриз Castrol RADICOOL G12+ красный (концентрант) 1 л|В наличии|189 грн\n",
      "2374|Антифриз FEBI G11 желтый (концентрант) 1.5 л|В наличии|216 грн\n",
      "1089|Антифриз FEBI G11 синий (концентрант) 1.5 л|В наличии|175 грн\n",
      "1381|Антифриз FEBI G12 красный (концентрант) 1.5 л|В наличии|190 грн\n",
      "19400|Антифриз FEBI G12+ фиолетовый (концентрат) 1.5 л|В наличии|197 грн\n",
      "38200|Антифриз FEBI G13 фиолетовый (концентрат) 1.5 л|В наличии|258 грн\n",
      "1940663|Антифриз GM (Европа) Long Life G12 красный (концентрант) 1л|Нет в наличии|120 грн\n",
      "93742646|Антифриз GM DEXCOOL G12+ красный (концентрант) 2л|В наличии|490 грн\n",
      "P999-YLW|Антифриз HEPU G11 желтый (концентрант) 1.5 л|В наличии|190 грн\n",
      "P999-YLW-005|Антифриз HEPU G11 желтый (концентрант) 5л|В наличии|612 грн\n",
      "P999-GRN|Антифриз HEPU G11 зеленый (концентрант) 1.5 л|В наличии|193 грн\n"
     ]
    }
   ],
   "source": [
    "with open('ds_7.txt', encoding='UTF-8') as f:\n",
    "    print(f.read())"
   ]
  },
  {
   "cell_type": "markdown",
   "metadata": {},
   "source": [
    "Дано два цілих числа N, K\n",
    "\tСтворіть текстовий файл. Запишіть у нього N рядків, кожна із яких складається із K символів \"*\" (зірочка)"
   ]
  },
  {
   "cell_type": "code",
   "execution_count": 86,
   "metadata": {},
   "outputs": [],
   "source": [
    "N = 3\n",
    "K = 10\n",
    "with open('ex2.txt', 'w') as f:\n",
    "    for i in range(N):\n",
    "        f.write('*'*K + '\\n')\n",
    "    \n",
    "    "
   ]
  },
  {
   "cell_type": "markdown",
   "metadata": {},
   "source": [
    "Завдання 3\n",
    "\tУ вас є файл із текстом.\n",
    "\tВидаліть перший рядок із файлу.\n"
   ]
  },
  {
   "cell_type": "code",
   "execution_count": 87,
   "metadata": {},
   "outputs": [],
   "source": [
    "with open('ex2.txt') as f:\n",
    "    data = f.readlines()\n",
    "    \n",
    "with open('ex3.txt', 'w') as f:\n",
    "    f.writelines(data[1:])"
   ]
  },
  {
   "cell_type": "code",
   "execution_count": null,
   "metadata": {},
   "outputs": [],
   "source": []
  }
 ],
 "metadata": {
  "kernelspec": {
   "display_name": "Python 3",
   "language": "python",
   "name": "python3"
  },
  "language_info": {
   "codemirror_mode": {
    "name": "ipython",
    "version": 3
   },
   "file_extension": ".py",
   "mimetype": "text/x-python",
   "name": "python",
   "nbconvert_exporter": "python",
   "pygments_lexer": "ipython3",
   "version": "3.7.6"
  }
 },
 "nbformat": 4,
 "nbformat_minor": 4
}
