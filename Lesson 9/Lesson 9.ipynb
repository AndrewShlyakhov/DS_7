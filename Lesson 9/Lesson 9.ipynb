{
 "cells": [
  {
   "cell_type": "markdown",
   "metadata": {},
   "source": [
    "### Хочу курс валюти!"
   ]
  },
  {
   "cell_type": "code",
   "execution_count": 3,
   "metadata": {},
   "outputs": [
    {
     "name": "stdout",
     "output_type": "stream",
     "text": [
      "Requirement already satisfied: requests in c:\\users\\i.betlei\\anaconda3\\lib\\site-packages (2.22.0)\n",
      "Requirement already satisfied: urllib3!=1.25.0,!=1.25.1,<1.26,>=1.21.1 in c:\\users\\i.betlei\\anaconda3\\lib\\site-packages (from requests) (1.25.8)\n",
      "Requirement already satisfied: certifi>=2017.4.17 in c:\\users\\i.betlei\\anaconda3\\lib\\site-packages (from requests) (2020.6.20)\n",
      "Requirement already satisfied: chardet<3.1.0,>=3.0.2 in c:\\users\\i.betlei\\anaconda3\\lib\\site-packages (from requests) (3.0.4)\n",
      "Requirement already satisfied: idna<2.9,>=2.5 in c:\\users\\i.betlei\\anaconda3\\lib\\site-packages (from requests) (2.8)\n"
     ]
    }
   ],
   "source": [
    "!pip install requests"
   ]
  },
  {
   "cell_type": "code",
   "execution_count": 4,
   "metadata": {},
   "outputs": [
    {
     "data": {
      "text/plain": [
       "'2.22.0'"
      ]
     },
     "execution_count": 4,
     "metadata": {},
     "output_type": "execute_result"
    }
   ],
   "source": [
    "import requests\n",
    "requests.__version__"
   ]
  },
  {
   "cell_type": "code",
   "execution_count": 5,
   "metadata": {},
   "outputs": [
    {
     "data": {
      "text/plain": [
       "<Response [200]>"
      ]
     },
     "execution_count": 5,
     "metadata": {},
     "output_type": "execute_result"
    }
   ],
   "source": [
    "r = requests.get('https://bank.gov.ua/NBUStatService/v1/statdirectory/exchange?json')\n",
    "r"
   ]
  },
  {
   "cell_type": "code",
   "execution_count": 6,
   "metadata": {},
   "outputs": [
    {
     "data": {
      "text/plain": [
       "200"
      ]
     },
     "execution_count": 6,
     "metadata": {},
     "output_type": "execute_result"
    }
   ],
   "source": [
    "r.status_code"
   ]
  },
  {
   "cell_type": "code",
   "execution_count": 10,
   "metadata": {},
   "outputs": [
    {
     "name": "stdout",
     "output_type": "stream",
     "text": [
      "Курс Євро на сьогодні становить = 31.7021\n"
     ]
    }
   ],
   "source": [
    "# вивести курс валют Євро\n",
    "import requests\n",
    "site = 'https://bank.gov.ua/NBUStatService/v1/statdirectory/exchange?json'\n",
    "\n",
    "r = requests.get(site)\n",
    "\n",
    "if r.status_code == 200:\n",
    "    data = r.json()\n",
    "    \n",
    "    for currency in data:\n",
    "        if currency['cc'] == 'EUR':\n",
    "            print(f'Курс Євро на сьогодні становить = {currency[\"rate\"]}')\n",
    "    "
   ]
  },
  {
   "cell_type": "code",
   "execution_count": 14,
   "metadata": {},
   "outputs": [],
   "source": [
    "import csv\n",
    "import requests\n",
    "site = 'https://bank.gov.ua/NBUStatService/v1/statdirectory/exchange?json'\n",
    "\n",
    "db = []\n",
    "\n",
    "r = requests.get(site)\n",
    "\n",
    "if r.status_code == 200:\n",
    "    data = r.json()\n",
    "    \n",
    "    for currency in data:\n",
    "        tmp = [currency['txt'], currency['rate'], currency['cc'] ]\n",
    "        db.append(tmp)\n",
    "date_today = data[0]['exchangedate']\n",
    "\n",
    "with open(f'Курс валюти на {date_today}.csv', 'w') as f:\n",
    "    file_csv = csv.writer(f)\n",
    "    file_csv.writerows(db)"
   ]
  },
  {
   "cell_type": "code",
   "execution_count": 25,
   "metadata": {},
   "outputs": [
    {
     "data": {
      "text/plain": [
       "<Response [200]>"
      ]
     },
     "execution_count": 25,
     "metadata": {},
     "output_type": "execute_result"
    }
   ],
   "source": [
    "site = f'https://bank.gov.ua/NBUStatService/v1/statdirectory/exchange?date=20200302&json'\n",
    "\n",
    "\n",
    "r = requests.get(site)\n",
    "r"
   ]
  },
  {
   "cell_type": "code",
   "execution_count": 45,
   "metadata": {},
   "outputs": [
    {
     "data": {
      "text/plain": [
       "datetime.date(2021, 7, 28)"
      ]
     },
     "execution_count": 45,
     "metadata": {},
     "output_type": "execute_result"
    }
   ],
   "source": [
    "from datetime import date, datetime, timedelta\n",
    "\n",
    "date.today()"
   ]
  },
  {
   "cell_type": "code",
   "execution_count": 48,
   "metadata": {},
   "outputs": [
    {
     "data": {
      "text/plain": [
       "datetime.datetime(2021, 7, 28, 20, 17, 42, 842885)"
      ]
     },
     "execution_count": 48,
     "metadata": {},
     "output_type": "execute_result"
    }
   ],
   "source": [
    "d = datetime.now()\n",
    "d"
   ]
  },
  {
   "cell_type": "code",
   "execution_count": 33,
   "metadata": {},
   "outputs": [
    {
     "data": {
      "text/plain": [
       "2021"
      ]
     },
     "execution_count": 33,
     "metadata": {},
     "output_type": "execute_result"
    }
   ],
   "source": [
    "d.year"
   ]
  },
  {
   "cell_type": "code",
   "execution_count": 43,
   "metadata": {},
   "outputs": [
    {
     "data": {
      "text/plain": [
       "'20210728'"
      ]
     },
     "execution_count": 43,
     "metadata": {},
     "output_type": "execute_result"
    }
   ],
   "source": [
    "d.strftime('%Y%m%d')"
   ]
  },
  {
   "cell_type": "code",
   "execution_count": 47,
   "metadata": {},
   "outputs": [
    {
     "data": {
      "text/plain": [
       "datetime.datetime(2021, 7, 27, 20, 14, 33, 875204)"
      ]
     },
     "execution_count": 47,
     "metadata": {},
     "output_type": "execute_result"
    }
   ],
   "source": [
    "d - timedelta(days=1)"
   ]
  },
  {
   "cell_type": "code",
   "execution_count": 52,
   "metadata": {},
   "outputs": [
    {
     "data": {
      "text/plain": [
       "30"
      ]
     },
     "execution_count": 52,
     "metadata": {},
     "output_type": "execute_result"
    }
   ],
   "source": [
    "from datetime import datetime, timedelta\n",
    "\n",
    "import requests\n",
    "\n",
    "db = []\n",
    "\n",
    "d = datetime.now()\n",
    "\n",
    "for i in range(30):\n",
    "    \n",
    "    site = f'https://bank.gov.ua/NBUStatService/v1/statdirectory/exchange?date={d.strftime(\"%Y%m%d\")}&json'\n",
    "    r = requests.get(site)\n",
    "\n",
    "    if r.status_code == 200:\n",
    "        data = r.json()\n",
    "        db.append(data)\n",
    "        \n",
    "    d -= timedelta(days=1)\n",
    "        \n",
    "len(db)"
   ]
  },
  {
   "cell_type": "code",
   "execution_count": 88,
   "metadata": {},
   "outputs": [
    {
     "data": {
      "text/plain": [
       "['великий', 'футбол', 'баскетбол', 'Python']"
      ]
     },
     "execution_count": 88,
     "metadata": {},
     "output_type": "execute_result"
    }
   ],
   "source": [
    "import requests\n",
    "from bs4 import BeautifulSoup\n",
    "HEADERS = {\n",
    "            'User-Agent': 'Mozilla/5.0 (Windows NT 6.1; WOW64; rv:49.0) Gecko/20100101 Firefox/49.0',\n",
    "            'Accept': 'text/html,application/xhtml+xml,application/xml;q=0.9,*/*;q=0.8',\n",
    "            'Accept-Language': 'en-US,en;q=0.5',\n",
    "            'Accept-Encoding': 'gzip, deflate',\n",
    "            'DNT': '1',\n",
    "            'Connection': 'keep-alive',\n",
    "            'Upgrade-Insecure-Requests': '1'\n",
    "        }\n",
    "\n",
    "SITE = 'https://www.google.com.ua/search'\n",
    "\n",
    "error_list = ['виликий','футбол', 'баскетбал', 'Pythan']\n",
    "new_list = []\n",
    "\n",
    "def parser(r):\n",
    "    soup = BeautifulSoup(r.text, 'lxml')\n",
    "    s = soup.find('div', class_=\"MUxGbd v0nnCb lyLwlc\")\n",
    "    if s != None:\n",
    "        return s.span.text\n",
    "\n",
    "for i in error_list:\n",
    "    r = requests.get(SITE, headers=HEADERS, params={'q':i})\n",
    "    new_word = parser(r)\n",
    "    if new_word != None:\n",
    "        new_list.append(new_word)\n",
    "    else:\n",
    "        new_list.append(i)\n",
    "new_list"
   ]
  },
  {
   "cell_type": "code",
   "execution_count": 55,
   "metadata": {},
   "outputs": [],
   "source": [
    "r = requests.get(SITE, headers=HEADERS, params={'q':'виликий'})"
   ]
  }
 ],
 "metadata": {
  "kernelspec": {
   "display_name": "Python 3",
   "language": "python",
   "name": "python3"
  },
  "language_info": {
   "codemirror_mode": {
    "name": "ipython",
    "version": 3
   },
   "file_extension": ".py",
   "mimetype": "text/x-python",
   "name": "python",
   "nbconvert_exporter": "python",
   "pygments_lexer": "ipython3",
   "version": "3.7.6"
  }
 },
 "nbformat": 4,
 "nbformat_minor": 4
}
